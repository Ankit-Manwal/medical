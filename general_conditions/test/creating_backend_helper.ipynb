{
 "cells": [
  {
   "cell_type": "code",
   "execution_count": 1,
   "metadata": {},
   "outputs": [],
   "source": [
    "import os\n",
    "# Set the environment variable to avoid OpenMP runtime errors\n",
    "os.environ['KMP_DUPLICATE_LIB_OK'] = 'TRUE'\n",
    "\n",
    "import pandas as pd\n",
    "import numpy as np\n",
    "from tensorflow.keras.models import load_model\n",
    "import json\n",
    "%matplotlib inline"
   ]
  },
  {
   "cell_type": "code",
   "execution_count": 3,
   "metadata": {},
   "outputs": [
    {
     "name": "stderr",
     "output_type": "stream",
     "text": [
      "c:\\Users\\ankit\\anaconda3\\envs\\streamlit\\Lib\\site-packages\\keras\\src\\layers\\core\\dense.py:87: UserWarning: Do not pass an `input_shape`/`input_dim` argument to a layer. When using Sequential models, prefer using an `Input(shape)` object as the first layer in the model instead.\n",
      "  super().__init__(activity_regularizer=activity_regularizer, **kwargs)\n",
      "c:\\Users\\ankit\\anaconda3\\envs\\streamlit\\Lib\\site-packages\\keras\\src\\optimizers\\base_optimizer.py:33: UserWarning: Argument `decay` is no longer supported and will be ignored.\n",
      "  warnings.warn(\n",
      "WARNING:absl:Compiled the loaded model, but the compiled metrics have yet to be built. `model.compile_metrics` will be empty until you train or evaluate the model.\n",
      "WARNING:absl:Error in loading the saved optimizer state. As a result, your model is starting with a freshly initialized optimizer.\n"
     ]
    },
    {
     "name": "stdout",
     "output_type": "stream",
     "text": [
      "diseases_classes: ['(vertigo) Paroymsal  Positional Vertigo', 'AIDS', 'Acne', 'Alcoholic hepatitis', 'Allergy', 'Arthritis', 'Bronchial Asthma', 'Cervical spondylosis', 'Chicken pox', 'Chronic cholestasis', 'Common Cold', 'Dengue', 'Diabetes', 'Dimorphic hemmorhoids(piles)', 'Drug Reaction', 'Fungal infection', 'GERD', 'Gastroenteritis', 'Heart attack', 'Hepatitis B', 'Hepatitis C', 'Hepatitis D', 'Hepatitis E', 'Hypertension', 'Hyperthyroidism', 'Hypoglycemia', 'Hypothyroidism', 'Impetigo', 'Jaundice', 'Malaria', 'Migraine', 'Osteoarthristis', 'Paralysis (brain hemorrhage)', 'Peptic ulcer diseae', 'Pneumonia', 'Psoriasis', 'Tuberculosis', 'Typhoid', 'Urinary tract infection', 'Varicose veins', 'hepatitis A']\n",
      "\n",
      "symptoms: ['mild_fever', 'swelling_of_stomach', 'chills', 'patches_in_throat', 'stomach_pain', 'abdominal_pain', 'receiving_blood_transfusion', 'blister', 'swelled_lymph_nodes', 'history_of_alcohol_consumption', 'burning_micturition', 'skin_rash', 'nodal_skin_eruptions', 'congestion', 'fatigue', 'red_spots_over_body', 'depression', 'mood_swings', 'dischromic _patches', 'redness_of_eyes', 'puffy_face_and_eyes', 'vomiting', 'back_pain', 'bladder_discomfort', 'distention_of_abdomen', 'swelling_joints', 'toxic_look_(typhos)', 'dehydration', 'dark_urine', 'acidity', 'irritability', 'phlegm', 'obesity', 'cough', 'joint_pain', 'altered_sensorium', 'stomach_bleeding', 'hip_joint_pain', 'red_sore_around_nose', 'knee_pain', 'headache', 'weakness_in_limbs', 'sweating', 'throat_irritation', 'foul_smell_of urine', 'swollen_legs', 'pain_during_bowel_movements', 'movement_stiffness', 'pain_in_anal_region', 'yellow_crust_ooze', 'internal_itching', 'unsteadiness', 'weight_gain', 'pus_filled_pimples', 'increased_appetite', 'dizziness', 'continuous_feel_of_urine', 'diarrhoea', 'rusty_sputum', 'slurred_speech', 'muscle_wasting', 'lethargy', 'excessive_hunger', 'stiff_neck', 'weight_loss', 'belly_pain', 'irregular_sugar_level', 'malaise', 'small_dents_in_nails', 'continuous_sneezing', 'enlarged_thyroid', 'shivering', 'acute_liver_failure', 'sunken_eyes', 'chest_pain', 'loss_of_smell', 'visual_disturbances', 'lack_of_concentration', 'passage_of_gases', 'neck_pain', 'itching', 'swollen_blood_vessels', 'nausea', 'restlessness', 'high_fever', 'fast_heart_rate', 'drying_and_tingling_lips', 'sinus_pressure', 'bloody_stool', 'swollen_extremeties', 'inflammatory_nails', 'extra_marital_contacts', 'muscle_weakness', 'ulcers_on_tongue', 'watering_from_eyes', 'prominent_veins_on_calf', 'fluid_overload', 'loss_of_balance', 'constipation', 'cold_hands_and_feets', 'muscle_pain', 'painful_walking', 'polyuria', 'coma', 'yellowing_of_eyes', 'cramps', 'blackheads', 'pain_behind_the_eyes', 'indigestion', 'receiving_unsterile_injections', 'scurring', 'skin_peeling', 'bruising', 'breathlessness', 'palpitations', 'spinning_movements', 'blurred_and_distorted_vision', 'weakness_of_one_body_side', 'family_history', 'yellow_urine', 'silver_like_dusting', 'anxiety', 'runny_nose', 'brittle_nails', 'spotting_ urination', 'irritation_in_anus', 'blood_in_sputum', 'mucoid_sputum', 'abnormal_menstruation', 'yellowish_skin', 'loss_of_appetite']\n"
     ]
    }
   ],
   "source": [
    "# Load the dictionary from the json file\n",
    "data = json.load(open(\"model_detail.json\", \"r\") )\n",
    "\n",
    "# Load the model\n",
    "loaded_model = load_model(data[\"model_path\"])\n",
    "\n",
    "# Load the categories\n",
    "diseases_classes = data[\"diseases_classes\"]\n",
    "symptoms_classes = data[\"symptoms\"]\n",
    "\n",
    "# Example usage\n",
    "print(\"diseases_classes:\", diseases_classes)\n",
    "print(\"\\nsymptoms:\", symptoms_classes)"
   ]
  },
  {
   "cell_type": "code",
   "execution_count": 4,
   "metadata": {},
   "outputs": [
    {
     "data": {
      "text/plain": [
       "['mild fever',\n",
       " 'swelling of stomach',\n",
       " 'chills',\n",
       " 'patches in throat',\n",
       " 'stomach pain',\n",
       " 'abdominal pain',\n",
       " 'receiving blood transfusion',\n",
       " 'blister',\n",
       " 'swelled lymph nodes',\n",
       " 'history of alcohol consumption',\n",
       " 'burning micturition',\n",
       " 'skin rash',\n",
       " 'nodal skin eruptions',\n",
       " 'congestion',\n",
       " 'fatigue',\n",
       " 'red spots over body',\n",
       " 'depression',\n",
       " 'mood swings',\n",
       " 'dischromic  patches',\n",
       " 'redness of eyes',\n",
       " 'puffy face and eyes',\n",
       " 'vomiting',\n",
       " 'back pain',\n",
       " 'bladder discomfort',\n",
       " 'distention of abdomen',\n",
       " 'swelling joints',\n",
       " 'toxic look (typhos)',\n",
       " 'dehydration',\n",
       " 'dark urine',\n",
       " 'acidity',\n",
       " 'irritability',\n",
       " 'phlegm',\n",
       " 'obesity',\n",
       " 'cough',\n",
       " 'joint pain',\n",
       " 'altered sensorium',\n",
       " 'stomach bleeding',\n",
       " 'hip joint pain',\n",
       " 'red sore around nose',\n",
       " 'knee pain',\n",
       " 'headache',\n",
       " 'weakness in limbs',\n",
       " 'sweating',\n",
       " 'throat irritation',\n",
       " 'foul smell of urine',\n",
       " 'swollen legs',\n",
       " 'pain during bowel movements',\n",
       " 'movement stiffness',\n",
       " 'pain in anal region',\n",
       " 'yellow crust ooze',\n",
       " 'internal itching',\n",
       " 'unsteadiness',\n",
       " 'weight gain',\n",
       " 'pus filled pimples',\n",
       " 'increased appetite',\n",
       " 'dizziness',\n",
       " 'continuous feel of urine',\n",
       " 'diarrhoea',\n",
       " 'rusty sputum',\n",
       " 'slurred speech',\n",
       " 'muscle wasting',\n",
       " 'lethargy',\n",
       " 'excessive hunger',\n",
       " 'stiff neck',\n",
       " 'weight loss',\n",
       " 'belly pain',\n",
       " 'irregular sugar level',\n",
       " 'malaise',\n",
       " 'small dents in nails',\n",
       " 'continuous sneezing',\n",
       " 'enlarged thyroid',\n",
       " 'shivering',\n",
       " 'acute liver failure',\n",
       " 'sunken eyes',\n",
       " 'chest pain',\n",
       " 'loss of smell',\n",
       " 'visual disturbances',\n",
       " 'lack of concentration',\n",
       " 'passage of gases',\n",
       " 'neck pain',\n",
       " 'itching',\n",
       " 'swollen blood vessels',\n",
       " 'nausea',\n",
       " 'restlessness',\n",
       " 'high fever',\n",
       " 'fast heart rate',\n",
       " 'drying and tingling lips',\n",
       " 'sinus pressure',\n",
       " 'bloody stool',\n",
       " 'swollen extremeties',\n",
       " 'inflammatory nails',\n",
       " 'extra marital contacts',\n",
       " 'muscle weakness',\n",
       " 'ulcers on tongue',\n",
       " 'watering from eyes',\n",
       " 'prominent veins on calf',\n",
       " 'fluid overload',\n",
       " 'loss of balance',\n",
       " 'constipation',\n",
       " 'cold hands and feets',\n",
       " 'muscle pain',\n",
       " 'painful walking',\n",
       " 'polyuria',\n",
       " 'coma',\n",
       " 'yellowing of eyes',\n",
       " 'cramps',\n",
       " 'blackheads',\n",
       " 'pain behind the eyes',\n",
       " 'indigestion',\n",
       " 'receiving unsterile injections',\n",
       " 'scurring',\n",
       " 'skin peeling',\n",
       " 'bruising',\n",
       " 'breathlessness',\n",
       " 'palpitations',\n",
       " 'spinning movements',\n",
       " 'blurred and distorted vision',\n",
       " 'weakness of one body side',\n",
       " 'family history',\n",
       " 'yellow urine',\n",
       " 'silver like dusting',\n",
       " 'anxiety',\n",
       " 'runny nose',\n",
       " 'brittle nails',\n",
       " 'spotting  urination',\n",
       " 'irritation in anus',\n",
       " 'blood in sputum',\n",
       " 'mucoid sputum',\n",
       " 'abnormal menstruation',\n",
       " 'yellowish skin',\n",
       " 'loss of appetite']"
      ]
     },
     "execution_count": 4,
     "metadata": {},
     "output_type": "execute_result"
    }
   ],
   "source": [
    "symptoms_classes = [s.replace(\"_\", \" \") for s in symptoms_classes if isinstance(s, str)]\n",
    "symptoms_classes"
   ]
  },
  {
   "cell_type": "markdown",
   "metadata": {},
   "source": [
    "### prediction"
   ]
  },
  {
   "cell_type": "code",
   "execution_count": null,
   "metadata": {},
   "outputs": [],
   "source": [
    "def get_prediction_with_confidence(model, x_input):\n",
    "    # Predict probabilities\n",
    "    predictions = model.predict(x_input.reshape(1,-1))\n",
    "    \n",
    "    # Get the predicted class (index of the highest probability)\n",
    "    predicted_class = np.array(diseases_classes) [np.argmax(predictions, axis=1)]\n",
    "    \n",
    "    # Get the confidence score (highest probability)\n",
    "    confidence_score = np.max(predictions, axis=1)\n",
    "    \n",
    "    return predicted_class[0], confidence_score[0]"
   ]
  },
  {
   "cell_type": "code",
   "execution_count": null,
   "metadata": {},
   "outputs": [],
   "source": []
  },
  {
   "cell_type": "markdown",
   "metadata": {},
   "source": [
    "\"I have been experiencing chills , fatigue, my eyes are red and pain in chest and muscle with high fever and cough and running nose. i am feeling irritation in throat and headache\""
   ]
  },
  {
   "cell_type": "markdown",
   "metadata": {},
   "source": [
    "### using nltk"
   ]
  },
  {
   "cell_type": "code",
   "execution_count": null,
   "metadata": {},
   "outputs": [],
   "source": [
    "import nltk\n",
    "from nltk.tokenize import word_tokenize, sent_tokenize\n",
    "\n",
    "# Ensure you have the necessary nltk resources\n",
    "nltk.download('punkt')\n",
    "\n",
    "\n",
    "\n",
    "# Function to find symptoms in a sentence using NLTK\n",
    "def find_symptoms_nltk(sentence, symptoms):\n",
    "    # Step 1: Tokenize the sentence into words\n",
    "    tokens = word_tokenize(sentence)\n",
    "    print(f\"Tokenized sentence: {tokens}\")\n",
    "\n",
    "    # Step 2: Normalize the symptoms list for matching\n",
    "    normalized_symptoms = [symptom.lower() for symptom in symptoms]\n",
    "    print(f\"Normalized symptoms list: {normalized_symptoms}\")\n",
    "\n",
    "    # Step 3: Create possible phrases from tokens (including multi-word tokens)\n",
    "    possible_phrases = []\n",
    "    for i in range(len(tokens)):\n",
    "        for j in range(i+1, len(tokens)+1):\n",
    "            possible_phrases.append(\" \".join(tokens[i:j]))\n",
    "    print(f\"Possible phrases: {possible_phrases}\")\n",
    "\n",
    "    # Step 4: Check for matches\n",
    "    matched_symptoms = []\n",
    "    for phrase in possible_phrases:\n",
    "        clean_phrase = \" \".join(phrase.split())\n",
    "        if clean_phrase.lower() in normalized_symptoms:\n",
    "            matched_symptoms.append(clean_phrase)\n",
    "\n",
    "    # Step 5: Remove duplicates\n",
    "    matched_symptoms = list(set(matched_symptoms))\n",
    "    print(f\"Unique matched symptoms: {matched_symptoms}\")\n",
    "\n",
    "    return matched_symptoms\n",
    "\n"
   ]
  },
  {
   "cell_type": "markdown",
   "metadata": {},
   "source": [
    "### General"
   ]
  },
  {
   "cell_type": "code",
   "execution_count": null,
   "metadata": {},
   "outputs": [],
   "source": [
    "import nltk\n",
    "from nltk.tokenize import word_tokenize\n",
    "from nltk.corpus import stopwords\n",
    "import string\n",
    "\n",
    "nltk.download('stopwords')\n",
    "\n",
    "\n",
    "def find_symptoms(sentence, symptoms):\n",
    "    # Step 1: Tokenize the sentence into individual words\n",
    "    words = word_tokenize(sentence)\n",
    "    print(f\"Tokenized words: {words}\")  # Debug: Print tokenized words\n",
    "    \n",
    "    # Step 2: Convert all words to lowercase to ensure case-insensitive matching\n",
    "    words = [word.lower() for word in words]\n",
    "    print(f\"Lowercased words: {words}\")  # Debug: Print lowercased words\n",
    "    \n",
    "    # Step 3: Remove punctuation by keeping only alphanumeric tokens\n",
    "    words = [word for word in words if word.isalnum()]\n",
    "    print(f\"Alphanumeric words: {words}\")  # Debug: Print words without punctuation\n",
    "    \n",
    "    # Step 4: Remove stopwords to focus on relevant words\n",
    "    stop_words = set(stopwords.words('english'))\n",
    "    words = [word for word in words if word not in stop_words]\n",
    "    print(f\"Words after removing stopwords: {words}\")  # Debug: Print words after removing stopwords\n",
    "    \n",
    "    # Step 5: Create n-grams from the words list for symptom matching\n",
    "    n = max(len(symptom.split()) for symptom in symptoms)\n",
    "    ngrams = [' '.join(words[i:i+n]) for n in range(1, n+1) for i in range(len(words)-n+1)]\n",
    "    print(f\"N-grams: {ngrams}\")  # Debug: Print generated n-grams\n",
    "    \n",
    "    # Step 6: Find and collect n-grams that match the symptoms list\n",
    "    matched_symptoms = [ngram for ngram in ngrams if ngram in symptoms]\n",
    "    print(f\"Matched symptoms: {matched_symptoms}\")  # Debug: Print matched symptoms\n",
    "    \n",
    "    return matched_symptoms\n"
   ]
  },
  {
   "cell_type": "markdown",
   "metadata": {},
   "source": [
    "### SPACY"
   ]
  },
  {
   "cell_type": "code",
   "execution_count": 1,
   "metadata": {},
   "outputs": [],
   "source": [
    "import spacy\n",
    "from spacy.matcher import PhraseMatcher\n",
    "\n",
    "# Load the spaCy model\n",
    "nlp = spacy.load('en_core_web_sm')\n",
    "\n",
    "\n",
    "\n",
    "# Function to find symptoms in a sentence\n",
    "def find_symptoms(sentence, symptoms):\n",
    "    # Step 1: Create a PhraseMatcher object\n",
    "    matcher = PhraseMatcher(nlp.vocab)\n",
    "    \n",
    "    # Step 2: Convert symptoms into spaCy doc objects\n",
    "    patterns = [nlp(text) for text in symptoms]\n",
    "    matcher.add(\"SYMPTOMS\", patterns)\n",
    "    \n",
    "    # Step 3: Process the sentence with spaCy\n",
    "    doc = nlp(sentence)\n",
    "    \n",
    "    # Step 4: Find matches in the processed sentence\n",
    "    matches = matcher(doc)\n",
    "    \n",
    "    # Step 5: Extract matched symptoms\n",
    "    matched_symptoms = [doc[start:end].text for match_id, start, end in matches]\n",
    "    \n",
    "    return matched_symptoms\n"
   ]
  },
  {
   "cell_type": "code",
   "execution_count": null,
   "metadata": {},
   "outputs": [],
   "source": [
    "\n",
    "# Example usage\n",
    "sentence = \"I have been experiencing chills , fatigue, my eyes are red and pain in chest and muscle with high fever and cough and running nose. i am feeling irritation in throat and headache\"\n",
    "matched_symptoms = find_symptoms(sentence, symptoms_classes)\n",
    "\n",
    "print(f\"Matched symptoms: {matched_symptoms}\")\n"
   ]
  },
  {
   "cell_type": "code",
   "execution_count": null,
   "metadata": {},
   "outputs": [],
   "source": [
    "# pip install --upgrade setuptools wheel\n",
    "# pip cache purge\n",
    "# pip install spacy --no-build-isolation "
   ]
  },
  {
   "cell_type": "code",
   "execution_count": null,
   "metadata": {},
   "outputs": [],
   "source": [
    "\n",
    "# Function to create a binary array for matched symptoms\n",
    "def symptoms_to_binary(matched_symptoms, all_symptoms):\n",
    "    lis= [1 if symptom in matched_symptoms else 0 for symptom in all_symptoms]\n",
    "    return np.array(lis)"
   ]
  },
  {
   "cell_type": "code",
   "execution_count": null,
   "metadata": {},
   "outputs": [],
   "source": [
    "inp=symptoms_to_binary(matched_symptoms,symptoms_classes)"
   ]
  },
  {
   "cell_type": "code",
   "execution_count": null,
   "metadata": {},
   "outputs": [],
   "source": []
  },
  {
   "cell_type": "code",
   "execution_count": null,
   "metadata": {},
   "outputs": [],
   "source": []
  },
  {
   "cell_type": "code",
   "execution_count": null,
   "metadata": {},
   "outputs": [],
   "source": [
    "# Example usage\n",
    "predicted_disease, confidence_score = get_prediction_with_confidence(loaded_model, inp)\n",
    "\n",
    "print(f\"Predicted class: {predicted_disease}, Confidence score: {confidence_score:.4f}\")"
   ]
  },
  {
   "cell_type": "code",
   "execution_count": null,
   "metadata": {},
   "outputs": [],
   "source": [
    "df_des = pd.read_csv(\"symptom_Description.csv\")\n",
    "df_des.head()"
   ]
  },
  {
   "cell_type": "code",
   "execution_count": null,
   "metadata": {},
   "outputs": [],
   "source": [
    "description = df_des[df_des['Disease'] == predicted_disease][\"Description\"].item()\n",
    "description"
   ]
  },
  {
   "cell_type": "code",
   "execution_count": null,
   "metadata": {},
   "outputs": [],
   "source": [
    "df_recom = pd.read_csv(\"symptom_precaution.csv\")\n",
    "df_recom.head()"
   ]
  },
  {
   "cell_type": "code",
   "execution_count": null,
   "metadata": {},
   "outputs": [],
   "source": [
    "recommendations = df_recom[df_recom['Disease'] == predicted_disease]\n",
    "recommendations = [recommendations[col].item() for col in recommendations.drop(columns='Disease').columns if  not pd.isna(recommendations[col].item())]\n",
    "recommendations"
   ]
  },
  {
   "cell_type": "code",
   "execution_count": null,
   "metadata": {},
   "outputs": [],
   "source": []
  },
  {
   "cell_type": "code",
   "execution_count": null,
   "metadata": {},
   "outputs": [],
   "source": []
  },
  {
   "cell_type": "code",
   "execution_count": 5,
   "metadata": {},
   "outputs": [],
   "source": [
    "data = json.load(open(\"test/test.json\", \"r\") )\n",
    "# Load the categories\n",
    "testx = data[\"testx\"]\n",
    "testy = data[\"testy\"]"
   ]
  },
  {
   "cell_type": "code",
   "execution_count": 6,
   "metadata": {},
   "outputs": [
    {
     "data": {
      "text/plain": [
       "37"
      ]
     },
     "execution_count": 6,
     "metadata": {},
     "output_type": "execute_result"
    }
   ],
   "source": [
    "diseases_classes.index(\"Typhoid\")"
   ]
  },
  {
   "cell_type": "code",
   "execution_count": 7,
   "metadata": {},
   "outputs": [
    {
     "data": {
      "text/plain": [
       "[38, 129, 136, 171, 189, 196, 203, 209, 214, 380, 407, 443]"
      ]
     },
     "execution_count": 7,
     "metadata": {},
     "output_type": "execute_result"
    }
   ],
   "source": [
    "indices = [index for index, value in enumerate(testy) if value == 37]\n",
    "indices"
   ]
  },
  {
   "cell_type": "code",
   "execution_count": 8,
   "metadata": {},
   "outputs": [
    {
     "data": {
      "text/plain": [
       "['chills',\n",
       " 'abdominal pain',\n",
       " 'fatigue',\n",
       " 'vomiting',\n",
       " 'toxic look (typhos)',\n",
       " 'headache',\n",
       " 'diarrhoea',\n",
       " 'belly pain',\n",
       " 'nausea',\n",
       " 'high fever',\n",
       " 'constipation']"
      ]
     },
     "execution_count": 8,
     "metadata": {},
     "output_type": "execute_result"
    }
   ],
   "source": [
    "[symptoms_classes[i] for i , sym in enumerate(testx[38])if sym==1]"
   ]
  },
  {
   "cell_type": "code",
   "execution_count": null,
   "metadata": {},
   "outputs": [],
   "source": [
    "matched_symptoms"
   ]
  },
  {
   "cell_type": "code",
   "execution_count": null,
   "metadata": {},
   "outputs": [],
   "source": []
  },
  {
   "cell_type": "code",
   "execution_count": 4,
   "metadata": {},
   "outputs": [],
   "source": [
    "import spacy\n",
    "from spacy.matcher import PhraseMatcher\n",
    "\n",
    "# Load the spaCy model\n",
    "nlp = spacy.load('en_core_web_sm')\n"
   ]
  },
  {
   "cell_type": "code",
   "execution_count": 7,
   "metadata": {},
   "outputs": [
    {
     "data": {
      "text/plain": [
       "['chills', 'fatigue', 'high fever', 'cough', 'headache']"
      ]
     },
     "execution_count": 7,
     "metadata": {},
     "output_type": "execute_result"
    }
   ],
   "source": [
    "# Function to find symptoms in a sentence\n",
    "def find_symptoms(sentence, symptoms=symptoms_classes):\n",
    "    # Step 1: Create a PhraseMatcher object\n",
    "    matcher = PhraseMatcher(nlp.vocab)\n",
    "    \n",
    "    # Step 2: Convert symptoms into spaCy doc objects\n",
    "    patterns = [nlp(text) for text in symptoms]\n",
    "    matcher.add(\"SYMPTOMS\", patterns)\n",
    "    \n",
    "    # Step 3: Process the sentence with spaCy\n",
    "    doc = nlp(sentence)\n",
    "    \n",
    "    # Step 4: Find matches in the processed sentence\n",
    "    matches = matcher(doc)\n",
    "    \n",
    "    # Step 5: Extract matched symptoms\n",
    "    matched_symptoms = [doc[start:end].text for match_id, start, end in matches]\n",
    "    \n",
    "    return matched_symptoms\n",
    "\n",
    "matched_symptoms=find_symptoms(\"I have been experiencing chills , fatigue, my eyes are red and pain in chest and muscle with high fever and cough and running nose. i am feeling irritation in throat and headache\")\n",
    "matched_symptoms"
   ]
  },
  {
   "cell_type": "code",
   "execution_count": 11,
   "metadata": {},
   "outputs": [
    {
     "name": "stdout",
     "output_type": "stream",
     "text": [
      "1/1 [==============================] - 0s 47ms/step\n"
     ]
    },
    {
     "data": {
      "text/plain": [
       "'Typhoid'"
      ]
     },
     "execution_count": 11,
     "metadata": {},
     "output_type": "execute_result"
    }
   ],
   "source": [
    "\n",
    "# Function to create a binary array for matched symptoms\n",
    "def symptoms_to_binary(matched_symptoms, all_symptoms):\n",
    "    lis= [1 if symptom in matched_symptoms else 0 for symptom in all_symptoms]\n",
    "    return np.array(lis)\n",
    "\n",
    "\n",
    "def get_prediction_with_confidence(model, x_input, diseases_classes=diseases_classes):\n",
    "    # Predict probabilities\n",
    "    predictions = model.predict(x_input.reshape(1,-1))\n",
    "    \n",
    "    # Get the predicted class (index of the highest probability)\n",
    "    predicted_class = np.array(diseases_classes) [np.argmax(predictions, axis=1)]\n",
    "    \n",
    "    # Get the confidence score (highest probability)\n",
    "    confidence_score = np.max(predictions, axis=1)\n",
    "    \n",
    "    return predicted_class[0], confidence_score\n",
    "\n",
    "inp=symptoms_to_binary(matched_symptoms,symptoms_classes)\n",
    "predicted_disease, confidence_score = get_prediction_with_confidence(loaded_model, inp)\n",
    "predicted_disease"
   ]
  },
  {
   "cell_type": "code",
   "execution_count": 12,
   "metadata": {},
   "outputs": [],
   "source": [
    "def give_description(predicted_disease):\n",
    "    df_des = pd.read_csv(\"symptom_Description.csv\")\n",
    "    description = df_des[df_des['Disease'] == predicted_disease][\"Description\"].item()\n",
    "    return description\n",
    "\n",
    "\n",
    "def give_recommendation(predicted_disease):\n",
    "    df_recom = pd.read_csv(\"symptom_precaution.csv\")\n",
    "    recommendations = df_recom[df_recom['Disease'] == predicted_disease]\n",
    "    recommendations = [recommendations[col].item() for col in recommendations.drop(columns='Disease').columns if  not pd.isna(recommendations[col].item())]\n",
    "    return recommendations"
   ]
  },
  {
   "cell_type": "code",
   "execution_count": 13,
   "metadata": {},
   "outputs": [
    {
     "data": {
      "text/plain": [
       "['eat high calorie vegitables',\n",
       " 'antiboitic therapy',\n",
       " 'consult doctor',\n",
       " 'medication']"
      ]
     },
     "execution_count": 13,
     "metadata": {},
     "output_type": "execute_result"
    }
   ],
   "source": [
    "description= give_description(predicted_disease)\n",
    "recommendations= give_recommendation(predicted_disease)\n",
    "recommendations"
   ]
  },
  {
   "cell_type": "code",
   "execution_count": 1,
   "metadata": {},
   "outputs": [],
   "source": [
    "import os\n",
    "# Set the environment variable to avoid OpenMP runtime errors\n",
    "os.environ['KMP_DUPLICATE_LIB_OK'] = 'TRUE'\n",
    "\n",
    "\n",
    "import pandas as pd\n",
    "import numpy as np\n",
    "from tensorflow.keras.models import load_model\n",
    "import json\n",
    "\n",
    "\n",
    "import spacy\n",
    "from spacy.matcher import PhraseMatcher\n",
    "# Load the spaCy model\n",
    "nlp = spacy.load('en_core_web_sm')\n",
    "\n",
    "\n",
    "\n",
    "# Load the dictionary from the json file\n",
    "data = json.load(open(\"model_detail.json\", \"r\") )\n",
    "# Load the model\n",
    "loaded_model = load_model(data[\"model_path\"])\n",
    "# Load the categories\n",
    "diseases_classes = data[\"diseases_classes\"]\n",
    "symptoms_classes = data[\"symptoms\"]\n",
    "symptoms_classes = [s.replace(\"_\", \" \") for s in symptoms_classes if isinstance(s, str)]\n",
    "\n",
    "\n",
    "df_des = pd.read_csv(\"symptom_Description.csv\")\n",
    "df_recom = pd.read_csv(\"symptom_precaution.csv\")\n",
    "\n",
    "\n",
    "\n",
    "\n",
    "# Function to find symptoms in a sentence\n",
    "def find_symptoms(sentence, symptoms=symptoms_classes):\n",
    "    # Step 1: Create a PhraseMatcher object\n",
    "    matcher = PhraseMatcher(nlp.vocab)\n",
    "    \n",
    "    # Step 2: Convert symptoms into spaCy doc objects\n",
    "    patterns = [nlp(text) for text in symptoms]\n",
    "    matcher.add(\"SYMPTOMS\", patterns)\n",
    "    \n",
    "    # Step 3: Process the sentence with spaCy\n",
    "    doc = nlp(sentence)\n",
    "    \n",
    "    # Step 4: Find matches in the processed sentence\n",
    "    matches = matcher(doc)\n",
    "    \n",
    "    # Step 5: Extract matched symptoms\n",
    "    matched_symptoms = [doc[start:end].text for match_id, start, end in matches]\n",
    "    \n",
    "    return matched_symptoms\n",
    "\n",
    "\n",
    "\n",
    "# Function to create a binary array for matched symptoms\n",
    "def symptoms_to_binary(matched_symptoms, all_symptoms):\n",
    "    lis= [1 if symptom in matched_symptoms else 0 for symptom in all_symptoms]\n",
    "    return np.array(lis)\n",
    "\n",
    "\n",
    "def get_prediction_with_confidence(model, x_input, diseases_classes=diseases_classes):\n",
    "    # Predict probabilities\n",
    "    predictions = model.predict(x_input.reshape(1,-1))\n",
    "    \n",
    "    # Get the predicted class (index of the highest probability)\n",
    "    predicted_class = np.array(diseases_classes) [np.argmax(predictions, axis=1)]\n",
    "    \n",
    "    # Get the confidence score (highest probability)\n",
    "    confidence_score = np.max(predictions, axis=1)\n",
    "    \n",
    "    return predicted_class[0], confidence_score[0]\n",
    "\n",
    "\n",
    "\n",
    "def give_description(predicted_disease):\n",
    "    description = df_des[df_des['Disease'] == predicted_disease][\"Description\"].item()\n",
    "    return description\n",
    "\n",
    "\n",
    "def give_recommendation(predicted_disease):\n",
    "    recommendations = df_recom[df_recom['Disease'] == predicted_disease]\n",
    "    recommendations = [recommendations[col].item() for col in recommendations.drop(columns='Disease').columns if  not pd.isna(recommendations[col].item())]\n",
    "    return recommendations\n",
    "\n",
    "\n",
    "\n",
    "\n",
    "def give_predicted_result(sentence):\n",
    "    \n",
    "    matched_symptoms=find_symptoms(sentence, symptoms=symptoms_classes)\n",
    "    inp=symptoms_to_binary(matched_symptoms,symptoms_classes)\n",
    "    predicted_disease, confidence_score = get_prediction_with_confidence(loaded_model, inp)\n",
    "\n",
    "    description= give_description(predicted_disease)\n",
    "    recommendations= give_recommendation(predicted_disease)\n",
    "\n",
    "    return {\"predicted_disease\":predicted_disease,\n",
    "             \"confidence_score\":confidence_score,\n",
    "             \"description\":description,\n",
    "             \"recommendations\":recommendations}"
   ]
  },
  {
   "cell_type": "code",
   "execution_count": 5,
   "metadata": {},
   "outputs": [
    {
     "name": "stdout",
     "output_type": "stream",
     "text": [
      "1/1 [==============================] - 0s 29ms/step\n",
      "['eat high calorie vegitables', 'antiboitic therapy', 'consult doctor', 'medication']\n"
     ]
    }
   ],
   "source": [
    "r=give_predicted_result(\"I have been experiencing chills , fatigue, my eyes are red and pain in chest and muscle with high fever and cough and running nose. i am feeling irritation in throat and headache\")\n",
    "print(r[\"recommendations\"])"
   ]
  }
 ],
 "metadata": {
  "kernelspec": {
   "display_name": "pyhon_base",
   "language": "python",
   "name": "python3"
  },
  "language_info": {
   "codemirror_mode": {
    "name": "ipython",
    "version": 3
   },
   "file_extension": ".py",
   "mimetype": "text/x-python",
   "name": "python",
   "nbconvert_exporter": "python",
   "pygments_lexer": "ipython3",
   "version": "3.11.9"
  }
 },
 "nbformat": 4,
 "nbformat_minor": 2
}
